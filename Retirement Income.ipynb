{
 "cells": [
  {
   "cell_type": "markdown",
   "id": "f8ed645b-3601-4fd0-a740-f4915a04e200",
   "metadata": {},
   "source": [
    "## Retirement Calculator\n",
    "\n",
    "This Python script uses data from Vanguard Target Retirement Funds to calculate estimated retirement income."
   ]
  },
  {
   "cell_type": "code",
   "execution_count": 9,
   "id": "477a0d51-5517-42df-a304-7e66b571a1f0",
   "metadata": {},
   "outputs": [],
   "source": [
    "# Libraries\n",
    "import yfinance as yf\n",
    "from statistics import mean, stdev\n",
    "from random import choice\n",
    "from matplotlib.pyplot import hist, show, xlabel, ylabel, title\n",
    "from datetime import datetime"
   ]
  },
  {
   "cell_type": "markdown",
   "id": "373ac215-26e3-4278-8520-864e9863602e",
   "metadata": {},
   "source": [
    "Vanguard Target Retirement 2025 Fund (VTTVX) data is used to project income up until retirement. The Vanguard Target Income Fund (VTINX) and CPI data are used to forecast the balance post-retirement, in addition to considering withdrawals. Some summary statistics are output below."
   ]
  },
  {
   "cell_type": "code",
   "execution_count": 10,
   "id": "4598dd90-7dc5-4e78-9fc5-1ef121808b40",
   "metadata": {
    "scrolled": true
   },
   "outputs": [
    {
     "name": "stdout",
     "output_type": "stream",
     "text": [
      "[*********************100%***********************]  1 of 1 completed\n",
      "0.002982740187943188\n",
      "0.004016079638624159\n",
      "[*********************100%***********************]  1 of 1 completed\n",
      "0.0010613420970397556\n",
      "0.0\n",
      "0.0022386277993333334\n",
      "0.0028594901529768574\n",
      "2.6863533592\n"
     ]
    }
   ],
   "source": [
    "# Read in VTTVX Vanguard Target 2025 Fund changes November 1, 2003 - June 30, 2023\n",
    "vttvxdf = yf.download(\"VTTVX\", end=datetime(2023, 6, 30), interval='1mo')\n",
    "vttvxdf\n",
    "vttvxdf['pct_change'] = vttvxdf[['Close']].pct_change()\n",
    "print(mean(vttvxdf.iloc[1:]['pct_change']))\n",
    "print(choice(vttvxdf.iloc[1:]['pct_change']))\n",
    "# hist(vttvxdf.iloc[1:]['pct_change'])\n",
    "# show()\n",
    "\n",
    "# Read in Vanguard Target Income Fund Changes July 1, 2007 - June 30, 2023\n",
    "vtinxdf = yf.download(\"VTINX\", start=datetime(2007, 7, 1), end=datetime(2023, 6, 30), interval='1mo')\n",
    "vtinxdf\n",
    "vtinxdf['pct_change'] = vtinxdf[['Close']].pct_change()\n",
    "print(mean(vtinxdf.iloc[1:]['pct_change']))\n",
    "print(choice(vtinxdf.iloc[1:]['pct_change']))\n",
    "\n",
    "# Read in monthly CPI change June 1, 2013 - June 1, 2023 from St. Louis Fed FRED Database\n",
    "# File stored in Python project directory\n",
    "inflation=[]\n",
    "cpichange = open(\"CPI change.csv\", \"r\")\n",
    "for line in cpichange:\n",
    "    rate = line\n",
    "    rate = float(rate)\n",
    "    inflation.append(rate)\n",
    "cpichange.close()\n",
    "# print(inflation)\n",
    "print(mean(inflation))\n",
    "print(stdev(inflation))\n",
    "print(mean(inflation)*1200) #Inflation rate"
   ]
  },
  {
   "cell_type": "code",
   "execution_count": 11,
   "id": "b59581dd-0574-47e1-8ba4-a9ffe52ae3a3",
   "metadata": {},
   "outputs": [],
   "source": [
    "# Functions\n",
    "def monthcalc(start, end):\n",
    "    return (end-start)*12\n",
    "\n",
    "def prerate():\n",
    "    # return(float(input(\"Enter rate of return\"))) # manual choice of rate\n",
    "    return(choice(vttvxdf.iloc[1:]['pct_change'])) # use VTTVX monthly rate change data from 2003-2023\n",
    "\n",
    "def postratefunc():\n",
    "    # cpi = float(input(\"Enter inflation\"))/12\n",
    "    # incomerate = float(input(\"Enter return rate\"))\n",
    "    cpi = choice(inflation)\n",
    "    incomerate = choice(vtinxdf.iloc[1:]['pct_change'])\n",
    "    return(incomerate-cpi)"
   ]
  },
  {
   "cell_type": "markdown",
   "id": "b01b5a80-ca2c-43f1-a62b-b6671c07b6e1",
   "metadata": {},
   "source": [
    "Retirement withdrawals are the total balance/months of retirement, which is hard-coded at 360 for 30 years. The monthly withdrawal is considered the equivalent of monthly income."
   ]
  },
  {
   "cell_type": "code",
   "execution_count": 12,
   "id": "9c2d3f05-7292-4aef-96d9-438b44720b90",
   "metadata": {},
   "outputs": [
    {
     "name": "stdin",
     "output_type": "stream",
     "text": [
      "Enter simulation times 100\n",
      "Enter starting balance 10000\n",
      "Enter monthly contribution 500\n",
      "Enter retirement year 2055\n"
     ]
    },
    {
     "name": "stdout",
     "output_type": "stream",
     "text": [
      "Starting balance is 10000.0\n",
      "Monthly contribution is 500.0\n",
      "The current year is 2023\n",
      "Retirement year is 2055\n",
      "Your average monthly income would be: $880.93.\n"
     ]
    },
    {
     "data": {
      "image/png": "[encoded data removed]",
      "text/plain": [
       "<Figure size 640x480 with 1 Axes>"
      ]
     },
     "metadata": {},
     "output_type": "display_data"
    }
   ],
   "source": [
    "times = int(input(\"Enter simulation times\"))\n",
    "prebalance = float(input(\"Enter starting balance\"))\n",
    "contribution = float(input(\"Enter monthly contribution\"))\n",
    "# startyear = int(input(\"Current year\"))\n",
    "startyear = datetime.now().year\n",
    "retyear = int(input(\"Enter retirement year\"))\n",
    "premonths = monthcalc(startyear,retyear)\n",
    "print(\"Starting balance is\", prebalance)\n",
    "print(\"Monthly contribution is\", contribution)\n",
    "print(\"The current year is\", startyear)\n",
    "print(\"Retirement year is\", retyear)\n",
    "# print(premonths)\n",
    "rate = prerate()\n",
    "ballist =[]\n",
    "wdlist=[]\n",
    "for t in range(times):\n",
    "    balance = prebalance\n",
    "    for m in range(1,premonths+1):\n",
    "        rate = prerate()\n",
    "        # print(rate)\n",
    "        balance = balance*(1+rate)+contribution\n",
    "    ballist.append(balance)\n",
    "    months = monthcalc(retyear + 1, retyear + 30)\n",
    "    # print(months)\n",
    "    # withdrawal = balance/months\n",
    "    # print(withdrawal)\n",
    "    while months > 0:\n",
    "        postretrate = postratefunc()\n",
    "        # print(postretrate)\n",
    "        withdrawal = balance / months\n",
    "        wdlist.append(withdrawal)\n",
    "        balance = (balance*(1+postretrate))-withdrawal\n",
    "        months -= 1\n",
    "# print(len(ballist))\n",
    "# print(round(mean(ballist), 2))\n",
    "# print(wdlist)\n",
    "avg = round(mean(wdlist),2)\n",
    "print(\"Your average monthly income would be: $\"+str(avg)+\".\")\n",
    "# print(round(mean(wdlist),2))\n",
    "hist(wdlist)\n",
    "title('Retirement Income Simulation')\n",
    "xlabel('Monthly Withdrawals (Dollars)')\n",
    "ylabel('Frequency')\n",
    "show()"
   ]
  },
  {
   "cell_type": "markdown",
   "id": "0d80715a-5644-461f-8d2a-15612be0f3ac",
   "metadata": {},
   "source": [
    "Ideas for improvemnt include:\n",
    "* Use of different or more funds or indexes\n",
    "* Flexibility in retirement years, instead of hard-coding 30 years\n",
    "* Calculate and project in terms of years and months, not just a duration of years\n",
    "* Factor some inflation into the pre-retirment calculations, especially further out in the pre-retirement years"
   ]
  },
  {
   "cell_type": "code",
   "execution_count": null,
   "id": "a58b7e8a-dd5e-44e9-a258-e80181b4dae5",
   "metadata": {},
   "outputs": [],
   "source": []
  }
 ],
 "metadata": {
  "kernelspec": {
   "display_name": "Python 3 (ipykernel)",
   "language": "python",
   "name": "python3"
  },
  "language_info": {
   "codemirror_mode": {
    "name": "ipython",
    "version": 3
   },
   "file_extension": ".py",
   "mimetype": "text/x-python",
   "name": "python",
   "nbconvert_exporter": "python",
   "pygments_lexer": "ipython3",
   "version": "3.11.3"
  }
 },
 "nbformat": 4,
 "nbformat_minor": 5
}
