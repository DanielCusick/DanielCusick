{
  "metadata": {
    "language_info": {
      "codemirror_mode": {
        "name": "python",
        "version": 3
      },
      "file_extension": ".py",
      "mimetype": "text/x-python",
      "name": "python",
      "nbconvert_exporter": "python",
      "pygments_lexer": "ipython3",
      "version": "3.8"
    },
    "kernelspec": {
      "name": "python",
      "display_name": "Python (Pyodide)",
      "language": "python"
    }
  },
  "nbformat_minor": 4,
  "nbformat": 4,
  "cells": [
    {
      "cell_type": "markdown",
      "source": "## Retirement Calculator\n\nThis Python script uses data from Vanguard Target Retirement Funds to calculate estimated retirement income.",
      "metadata": {
        "tags": []
      }
    },
    {
      "cell_type": "code",
      "source": "# Libraries\nimport yfinance as yf\nfrom statistics import mean, stdev\nfrom random import choice\nfrom matplotlib.pyplot import hist, show, xlabel, ylabel, title\nfrom datetime import datetime\n\n# Read in VTTVX Vanguard Target 2025 Fund changes November 1, 2003 - June 30, 2023\nvttvxdf = yf.download(\"VTTVX\", end=datetime(2023, 6, 30), interval='1mo')\nvttvxdf\nvttvxdf['pct_change'] = vttvxdf[['Close']].pct_change()\nprint(mean(vttvxdf.iloc[1:]['pct_change']))\nprint(choice(vttvxdf.iloc[1:]['pct_change']))\n# hist(vttvxdf.iloc[1:]['pct_change'])\n# show()\n\n# Read in Vanguard Target Income Fund Changes July 1, 2007 - June 30, 2023\nvtinxdf = yf.download(\"VTINX\", start=datetime(2007, 7, 1), end=datetime(2023, 6, 30), interval='1mo')\nvtinxdf\nvtinxdf['pct_change'] = vtinxdf[['Close']].pct_change()\nprint(mean(vtinxdf.iloc[1:]['pct_change']))\nprint(choice(vtinxdf.iloc[1:]['pct_change']))\n\n# Read in monthly CPI change June 1, 2013 - June 1, 2023 from St. Louis Fed FRED Database\n# File stored in Python project directory\ninflation=[]\ncpichange = open(\"CPI change.csv\", \"r\")\nfor line in cpichange:\n    rate = line\n    rate = float(rate)\n    inflation.append(rate)\ncpichange.close()\n# print(inflation)\nprint(mean(inflation))\nprint(stdev(inflation))\nprint(mean(inflation)*1200) #Inflation rate\n",
      "metadata": {
        "tags": [],
        "trusted": true
      },
      "execution_count": null,
      "outputs": []
    },
    {
      "cell_type": "code",
      "source": "# Functions\ndef monthcalc(start, end):\n    return (end-start)*12\n\ndef prerate():\n    # return(float(input(\"Enter rate of return\"))) # manual choice of rate\n    return(choice(vttvxdf.iloc[1:]['pct_change'])) # use VTTVX monthly rate change data from 2003-2023\n\ndef postratefunc():\n    # cpi = float(input(\"Enter inflation\"))/12\n    # incomerate = float(input(\"Enter return rate\"))\n    cpi = choice(inflation)\n    incomerate = choice(vtinxdf.iloc[1:]['pct_change'])\n    return(incomerate-cpi)",
      "metadata": {
        "tags": [],
        "trusted": true
      },
      "execution_count": null,
      "outputs": []
    },
    {
      "cell_type": "code",
      "source": "times = int(input(\"Enter sim times\"))\nprebalance = float(input(\"Enter starting balance\"))\ncontribution = float(input(\"Enter monthly contribution\"))\n# startyear = int(input(\"Current year\"))\nstartyear = datetime.now().year\nprint(\"The current year is\", startyear)\nretyear = int(input(\"Enter retirement year\"))\npremonths = monthcalc(startyear,retyear)\nprint(premonths)\nrate = prerate()\nballist =[]\nwdlist=[]\nfor t in range(times):\n    balance = prebalance\n    for m in range(1,premonths+1):\n        rate = prerate()\n        # print(rate)\n        balance = balance*(1+rate)+contribution\n    ballist.append(balance)\n    months = monthcalc(retyear + 1, retyear + 35)\n    # print(months)\n    # withdrawal = balance/months\n    # print(withdrawal)\n    while months > 0:\n        postretrate = postratefunc()\n        # print(postretrate)\n        withdrawal = balance / months\n        wdlist.append(withdrawal)\n        balance = (balance*(1+postretrate))-withdrawal\n        months -= 1\nprint(len(ballist))\nprint(round(mean(ballist), 2))\n# print(wdlist)\nprint(len(wdlist))\nprint(round(mean(wdlist),2))\nhist(wdlist)\ntitle('Retirement Income Simulation')\nxlabel('Monthly Withdrawals (Dollars)')\nylabel('Frequency')\nshow()\n",
      "metadata": {
        "tags": [],
        "trusted": true
      },
      "execution_count": null,
      "outputs": []
    }
  ]
}